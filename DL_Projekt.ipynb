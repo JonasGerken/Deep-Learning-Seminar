{
 "cells": [
  {
   "cell_type": "code",
   "execution_count": 142,
   "id": "7c331c6e-2a61-4067-b6ac-7237c4402228",
   "metadata": {},
   "outputs": [],
   "source": [
    "import numpy as np\n",
    "import pandas as pd\n",
    "\n",
    "from sklearn.linear_model import LogisticRegression\n",
    "from sklearn.naive_bayes import MultinomialNB\n",
    "\n",
    "from sklearn.feature_extraction.text import CountVectorizer\n",
    "from sklearn.model_selection import train_test_split\n",
    "from sklearn.metrics import accuracy_score, classification_report, confusion_matrix\n",
    "\n",
    "from sklearn.pipeline import Pipeline"
   ]
  },
  {
   "cell_type": "code",
   "execution_count": 176,
   "id": "d7e06793-cd31-493a-a4a3-20a2eb7d9aa5",
   "metadata": {},
   "outputs": [],
   "source": [
    "#Read the data\n",
    "df=pd.read_csv(\"C:\\\\Users\\\\gerke\\\\Desktop\\\\Dataset_DL.csv\")"
   ]
  },
  {
   "cell_type": "code",
   "execution_count": 177,
   "id": "c6ab51c6-d2d1-48c1-ae09-c658858ef13b",
   "metadata": {},
   "outputs": [
    {
     "data": {
      "text/html": [
       "<div>\n",
       "<style scoped>\n",
       "    .dataframe tbody tr th:only-of-type {\n",
       "        vertical-align: middle;\n",
       "    }\n",
       "\n",
       "    .dataframe tbody tr th {\n",
       "        vertical-align: top;\n",
       "    }\n",
       "\n",
       "    .dataframe thead th {\n",
       "        text-align: right;\n",
       "    }\n",
       "</style>\n",
       "<table border=\"1\" class=\"dataframe\">\n",
       "  <thead>\n",
       "    <tr style=\"text-align: right;\">\n",
       "      <th></th>\n",
       "      <th>text</th>\n",
       "      <th>Emotion</th>\n",
       "    </tr>\n",
       "  </thead>\n",
       "  <tbody>\n",
       "    <tr>\n",
       "      <th>1</th>\n",
       "      <td>#strawbeeryblond</td>\n",
       "      <td>HAPPY</td>\n",
       "    </tr>\n",
       "    <tr>\n",
       "      <th>2</th>\n",
       "      <td>#happy</td>\n",
       "      <td>HAPPY</td>\n",
       "    </tr>\n",
       "    <tr>\n",
       "      <th>3</th>\n",
       "      <td>#nature</td>\n",
       "      <td>NEUTRAL</td>\n",
       "    </tr>\n",
       "    <tr>\n",
       "      <th>4</th>\n",
       "      <td>#injury</td>\n",
       "      <td>SAD</td>\n",
       "    </tr>\n",
       "    <tr>\n",
       "      <th>5</th>\n",
       "      <td>#spring</td>\n",
       "      <td>HAPPY</td>\n",
       "    </tr>\n",
       "  </tbody>\n",
       "</table>\n",
       "</div>"
      ],
      "text/plain": [
       "               text  Emotion\n",
       "1  #strawbeeryblond    HAPPY\n",
       "2            #happy    HAPPY\n",
       "3           #nature  NEUTRAL\n",
       "4           #injury      SAD\n",
       "5           #spring    HAPPY"
      ]
     },
     "execution_count": 177,
     "metadata": {},
     "output_type": "execute_result"
    }
   ],
   "source": [
    "df.head()"
   ]
  },
  {
   "cell_type": "code",
   "execution_count": 178,
   "id": "dd28256a-628b-407a-9fc7-187a70dfa1ac",
   "metadata": {},
   "outputs": [
    {
     "data": {
      "text/plain": [
       "HAPPY      31\n",
       "SAD        20\n",
       "NEUTRAL    15\n",
       "Name: Emotion, dtype: int64"
      ]
     },
     "execution_count": 178,
     "metadata": {},
     "output_type": "execute_result"
    }
   ],
   "source": [
    "df['Emotion'].value_counts()"
   ]
  },
  {
   "cell_type": "code",
   "execution_count": 179,
   "id": "bec2801b-8e54-4ba2-903e-066bb8d1add5",
   "metadata": {},
   "outputs": [],
   "source": [
    "#Sentiment Analysis\n",
    "from textblob import TextBlob"
   ]
  },
  {
   "cell_type": "code",
   "execution_count": 180,
   "id": "791f6ed4-b72e-4838-b23b-29044c7bdfa8",
   "metadata": {},
   "outputs": [],
   "source": [
    "def get_sentiment(text): \n",
    "    blob = TextBlob(text)\n",
    "    sentiment = blob.sentiment.polarity\n",
    "    if sentiment > 0:\n",
    "        result = \"Positive\"\n",
    "    elif sentiment < 0:\n",
    "        result = \"Negative\"\n",
    "    else:\n",
    "        result = \"Neutral\"\n",
    "    return result"
   ]
  },
  {
   "cell_type": "code",
   "execution_count": 181,
   "id": "fd230a04-bc80-45d2-9f34-335b955b3937",
   "metadata": {},
   "outputs": [],
   "source": [
    "df['Sentiment'] = df['text'].apply(get_sentiment)"
   ]
  },
  {
   "cell_type": "code",
   "execution_count": 182,
   "id": "44bd57ef-569a-4d69-abd4-7e7f9382e915",
   "metadata": {},
   "outputs": [
    {
     "data": {
      "text/html": [
       "<div>\n",
       "<style scoped>\n",
       "    .dataframe tbody tr th:only-of-type {\n",
       "        vertical-align: middle;\n",
       "    }\n",
       "\n",
       "    .dataframe tbody tr th {\n",
       "        vertical-align: top;\n",
       "    }\n",
       "\n",
       "    .dataframe thead th {\n",
       "        text-align: right;\n",
       "    }\n",
       "</style>\n",
       "<table border=\"1\" class=\"dataframe\">\n",
       "  <thead>\n",
       "    <tr style=\"text-align: right;\">\n",
       "      <th></th>\n",
       "      <th>text</th>\n",
       "      <th>Emotion</th>\n",
       "      <th>Sentiment</th>\n",
       "    </tr>\n",
       "  </thead>\n",
       "  <tbody>\n",
       "    <tr>\n",
       "      <th>1</th>\n",
       "      <td>#strawbeeryblond</td>\n",
       "      <td>HAPPY</td>\n",
       "      <td>Neutral</td>\n",
       "    </tr>\n",
       "    <tr>\n",
       "      <th>2</th>\n",
       "      <td>#happy</td>\n",
       "      <td>HAPPY</td>\n",
       "      <td>Positive</td>\n",
       "    </tr>\n",
       "    <tr>\n",
       "      <th>3</th>\n",
       "      <td>#nature</td>\n",
       "      <td>NEUTRAL</td>\n",
       "      <td>Neutral</td>\n",
       "    </tr>\n",
       "    <tr>\n",
       "      <th>4</th>\n",
       "      <td>#injury</td>\n",
       "      <td>SAD</td>\n",
       "      <td>Neutral</td>\n",
       "    </tr>\n",
       "    <tr>\n",
       "      <th>5</th>\n",
       "      <td>#spring</td>\n",
       "      <td>HAPPY</td>\n",
       "      <td>Neutral</td>\n",
       "    </tr>\n",
       "  </tbody>\n",
       "</table>\n",
       "</div>"
      ],
      "text/plain": [
       "               text  Emotion Sentiment\n",
       "1  #strawbeeryblond    HAPPY   Neutral\n",
       "2            #happy    HAPPY  Positive\n",
       "3           #nature  NEUTRAL   Neutral\n",
       "4           #injury      SAD   Neutral\n",
       "5           #spring    HAPPY   Neutral"
      ]
     },
     "execution_count": 182,
     "metadata": {},
     "output_type": "execute_result"
    }
   ],
   "source": [
    "df.head()"
   ]
  },
  {
   "cell_type": "code",
   "execution_count": 183,
   "id": "728bcf67-b399-4161-86fe-fa090d828a20",
   "metadata": {},
   "outputs": [
    {
     "data": {
      "text/plain": [
       "Emotion  Sentiment\n",
       "HAPPY    Neutral      22\n",
       "         Positive      9\n",
       "NEUTRAL  Neutral      15\n",
       "SAD      Negative     11\n",
       "         Neutral       9\n",
       "dtype: int64"
      ]
     },
     "execution_count": 183,
     "metadata": {},
     "output_type": "execute_result"
    }
   ],
   "source": [
    "df.groupby(['Emotion', 'Sentiment']).size()"
   ]
  },
  {
   "cell_type": "code",
   "execution_count": 184,
   "id": "5114bb6d-edf6-46c0-b1b3-db81b1dbf348",
   "metadata": {},
   "outputs": [
    {
     "data": {
      "text/html": [
       "<div>\n",
       "<style scoped>\n",
       "    .dataframe tbody tr th:only-of-type {\n",
       "        vertical-align: middle;\n",
       "    }\n",
       "\n",
       "    .dataframe tbody tr th {\n",
       "        vertical-align: top;\n",
       "    }\n",
       "\n",
       "    .dataframe thead th {\n",
       "        text-align: right;\n",
       "    }\n",
       "</style>\n",
       "<table border=\"1\" class=\"dataframe\">\n",
       "  <thead>\n",
       "    <tr style=\"text-align: right;\">\n",
       "      <th></th>\n",
       "      <th>text</th>\n",
       "      <th>Emotion</th>\n",
       "      <th>Sentiment</th>\n",
       "    </tr>\n",
       "  </thead>\n",
       "  <tbody>\n",
       "    <tr>\n",
       "      <th>1</th>\n",
       "      <td>#strawbeeryblond</td>\n",
       "      <td>HAPPY</td>\n",
       "      <td>Neutral</td>\n",
       "    </tr>\n",
       "    <tr>\n",
       "      <th>2</th>\n",
       "      <td>#happy</td>\n",
       "      <td>HAPPY</td>\n",
       "      <td>Positive</td>\n",
       "    </tr>\n",
       "    <tr>\n",
       "      <th>3</th>\n",
       "      <td>#nature</td>\n",
       "      <td>NEUTRAL</td>\n",
       "      <td>Neutral</td>\n",
       "    </tr>\n",
       "    <tr>\n",
       "      <th>4</th>\n",
       "      <td>#injury</td>\n",
       "      <td>SAD</td>\n",
       "      <td>Neutral</td>\n",
       "    </tr>\n",
       "    <tr>\n",
       "      <th>5</th>\n",
       "      <td>#spring</td>\n",
       "      <td>HAPPY</td>\n",
       "      <td>Neutral</td>\n",
       "    </tr>\n",
       "    <tr>\n",
       "      <th>...</th>\n",
       "      <td>...</td>\n",
       "      <td>...</td>\n",
       "      <td>...</td>\n",
       "    </tr>\n",
       "    <tr>\n",
       "      <th>62</th>\n",
       "      <td>#nasty</td>\n",
       "      <td>SAD</td>\n",
       "      <td>Negative</td>\n",
       "    </tr>\n",
       "    <tr>\n",
       "      <th>63</th>\n",
       "      <td>#love</td>\n",
       "      <td>HAPPY</td>\n",
       "      <td>Positive</td>\n",
       "    </tr>\n",
       "    <tr>\n",
       "      <th>64</th>\n",
       "      <td>#broken heart</td>\n",
       "      <td>SAD</td>\n",
       "      <td>Negative</td>\n",
       "    </tr>\n",
       "    <tr>\n",
       "      <th>65</th>\n",
       "      <td>#heartsick</td>\n",
       "      <td>SAD</td>\n",
       "      <td>Neutral</td>\n",
       "    </tr>\n",
       "    <tr>\n",
       "      <th>66</th>\n",
       "      <td>#wistful</td>\n",
       "      <td>SAD</td>\n",
       "      <td>Neutral</td>\n",
       "    </tr>\n",
       "  </tbody>\n",
       "</table>\n",
       "<p>66 rows × 3 columns</p>\n",
       "</div>"
      ],
      "text/plain": [
       "                text  Emotion Sentiment\n",
       "1   #strawbeeryblond    HAPPY   Neutral\n",
       "2             #happy    HAPPY  Positive\n",
       "3            #nature  NEUTRAL   Neutral\n",
       "4            #injury      SAD   Neutral\n",
       "5            #spring    HAPPY   Neutral\n",
       "..               ...      ...       ...\n",
       "62            #nasty      SAD  Negative\n",
       "63             #love    HAPPY  Positive\n",
       "64     #broken heart      SAD  Negative\n",
       "65        #heartsick      SAD   Neutral\n",
       "66          #wistful      SAD   Neutral\n",
       "\n",
       "[66 rows x 3 columns]"
      ]
     },
     "execution_count": 184,
     "metadata": {},
     "output_type": "execute_result"
    }
   ],
   "source": [
    "df"
   ]
  },
  {
   "cell_type": "code",
   "execution_count": 207,
   "id": "9ea1bd43-f22a-4b97-9676-10210b3fc768",
   "metadata": {},
   "outputs": [],
   "source": [
    "Xfeatures = df['text']\n",
    "ylabels = df['Emotion']"
   ]
  },
  {
   "cell_type": "code",
   "execution_count": 208,
   "id": "c8317f18-36ef-48a3-a27c-2e8f17f62ef6",
   "metadata": {},
   "outputs": [],
   "source": [
    "#  Split Data\n",
    "X_train,X_test,y_train,y_test = train_test_split(Xfeatures,ylabels,test_size=0.3,random_state=42)"
   ]
  },
  {
   "cell_type": "code",
   "execution_count": 209,
   "id": "9a14598b-d067-403e-92bf-f789e2ff0f0a",
   "metadata": {},
   "outputs": [],
   "source": [
    "pipe_lr = Pipeline(steps=[('cv',CountVectorizer()),('lr',LogisticRegression())])"
   ]
  },
  {
   "cell_type": "code",
   "execution_count": 210,
   "id": "e2a77a7a-9949-4200-8972-c947361330e3",
   "metadata": {},
   "outputs": [
    {
     "data": {
      "text/plain": [
       "Pipeline(steps=[('cv', CountVectorizer()), ('lr', LogisticRegression())])"
      ]
     },
     "execution_count": 210,
     "metadata": {},
     "output_type": "execute_result"
    }
   ],
   "source": [
    "pipe_lr.fit(X_train,y_train)"
   ]
  },
  {
   "cell_type": "code",
   "execution_count": 211,
   "id": "1feb9eb2-195a-4363-a334-7e78633e9bb5",
   "metadata": {},
   "outputs": [
    {
     "data": {
      "text/plain": [
       "Pipeline(steps=[('cv', CountVectorizer()), ('lr', LogisticRegression())])"
      ]
     },
     "execution_count": 211,
     "metadata": {},
     "output_type": "execute_result"
    }
   ],
   "source": [
    "pipe_lr"
   ]
  },
  {
   "cell_type": "code",
   "execution_count": 212,
   "id": "a97c1c1c-22c3-4cbf-8cea-5e188b7d0a1b",
   "metadata": {},
   "outputs": [
    {
     "data": {
      "text/plain": [
       "0.45"
      ]
     },
     "execution_count": 212,
     "metadata": {},
     "output_type": "execute_result"
    }
   ],
   "source": [
    "pipe_lr.score(X_test,y_test)"
   ]
  },
  {
   "cell_type": "code",
   "execution_count": 235,
   "id": "1bc4f80d-c341-4432-a7c9-6dbfe3de7e50",
   "metadata": {},
   "outputs": [],
   "source": [
    "ex1 = \"#bad day\""
   ]
  },
  {
   "cell_type": "code",
   "execution_count": 236,
   "id": "4890684e-b529-42b9-89c1-e142b25116e9",
   "metadata": {},
   "outputs": [
    {
     "data": {
      "text/plain": [
       "array(['SAD'], dtype=object)"
      ]
     },
     "execution_count": 236,
     "metadata": {},
     "output_type": "execute_result"
    }
   ],
   "source": [
    "pipe_lr.predict([ex1])"
   ]
  },
  {
   "cell_type": "code",
   "execution_count": null,
   "id": "d5ea255b-d085-4686-9edd-f38e210056e3",
   "metadata": {},
   "outputs": [],
   "source": []
  },
  {
   "cell_type": "code",
   "execution_count": null,
   "id": "e4ac776a-ac8a-4309-bfc3-a048adc872e6",
   "metadata": {},
   "outputs": [],
   "source": []
  }
 ],
 "metadata": {
  "kernelspec": {
   "display_name": "Python 3 (ipykernel)",
   "language": "python",
   "name": "python3"
  },
  "language_info": {
   "codemirror_mode": {
    "name": "ipython",
    "version": 3
   },
   "file_extension": ".py",
   "mimetype": "text/x-python",
   "name": "python",
   "nbconvert_exporter": "python",
   "pygments_lexer": "ipython3",
   "version": "3.7.3"
  }
 },
 "nbformat": 4,
 "nbformat_minor": 5
}
